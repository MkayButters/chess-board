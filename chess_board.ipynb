{
 "metadata": {
  "language_info": {
   "codemirror_mode": {
    "name": "ipython",
    "version": 3
   },
   "file_extension": ".py",
   "mimetype": "text/x-python",
   "name": "python",
   "nbconvert_exporter": "python",
   "pygments_lexer": "ipython3",
   "version": "3.9.0-final"
  },
  "orig_nbformat": 2,
  "kernelspec": {
   "name": "python39064bitvenvvenvd972d9b6c17d4bcb8e09039245f02ace",
   "display_name": "Python 3.9.0 64-bit ('.venv': venv)"
  }
 },
 "nbformat": 4,
 "nbformat_minor": 2,
 "cells": [
  {
   "cell_type": "code",
   "execution_count": 96,
   "metadata": {},
   "outputs": [],
   "source": [
    "%matplotlib inline\n",
    "import numpy as np\n",
    "import matplotlib.pyplot as plt"
   ]
  },
  {
   "cell_type": "code",
   "execution_count": 100,
   "metadata": {},
   "outputs": [],
   "source": [
    "class ChessBoard:\n",
    "\n",
    "    red = (1,.2,0)\n",
    "    blue = (0,1,1)\n",
    "\n",
    "    def __init__(self):\n",
    "        self.grid = np.ones((8,8,3))\n",
    "        for coords in np.ndindex(8,8):\n",
    "            row = coords[0]\n",
    "            col = coords[1]\n",
    "            if row % 2 != col %2:\n",
    "                self.grid[row, col] = (0,0,0)\n",
    "\n",
    "    def __repr__(self):\n",
    "        return \"8x8 chess board\"\n",
    "\n",
    "    def add_red(self, row, col):\n",
    "        self.grid[row][col] = self.red\n",
    "\n",
    "    def add_blue(self, row, col):\n",
    "        self.grid[row][col] = self.blue\n",
    "\n",
    "    def render(self, red , blue):\n",
    "        plt.imshow(self.grid)\n",
    "\n",
    "    def is_under_attack(self):\n",
    "        red_coords = None\n",
    "        blue_coords = None\n",
    "\n",
    "        for i,row in enumerate(self.grid):\n",
    "            for j,col in enumerate(row):\n",
    "                if np.array_equal(col,self.blue):\n",
    "                    blue_coords = (i,j)\n",
    "                if np.array_equal(col,self.red):\n",
    "                    red_coords = (i,j)\n",
    "\n",
    "            if not blue_coords or not red_coords:\n",
    "                return False\n",
    "\n",
    "            if blue_coords[0] == red_coords[0]:\n",
    "                return True\n",
    "\n",
    "            if blue_coords[1] == red_coords[1]:\n",
    "                return True\n",
    "\n",
    "            \n",
    "            dx = abs(blue_coords[0] - red_coords[0])\n",
    "            dy = abs(blue_coords[1] - red_coords[1])\n",
    "\n",
    "            return dx == dy\n"
   ]
  },
  {
   "cell_type": "code",
   "execution_count": 99,
   "metadata": {},
   "outputs": [
    {
     "output_type": "error",
     "ename": "TypeError",
     "evalue": "render() missing 2 required positional arguments: 'red' and 'blue'",
     "traceback": [
      "\u001b[0;31m---------------------------------------------------------------------------\u001b[0m",
      "\u001b[0;31mTypeError\u001b[0m                                 Traceback (most recent call last)",
      "\u001b[0;32m<ipython-input-99-af4a17a41c36>\u001b[0m in \u001b[0;36m<module>\u001b[0;34m\u001b[0m\n\u001b[1;32m      1\u001b[0m \u001b[0mboard\u001b[0m \u001b[0;34m=\u001b[0m \u001b[0mChessBoard\u001b[0m\u001b[0;34m(\u001b[0m\u001b[0;34m)\u001b[0m\u001b[0;34m\u001b[0m\u001b[0;34m\u001b[0m\u001b[0m\n\u001b[0;32m----> 2\u001b[0;31m \u001b[0mboard\u001b[0m\u001b[0;34m.\u001b[0m\u001b[0mrender\u001b[0m\u001b[0;34m(\u001b[0m\u001b[0;34m)\u001b[0m\u001b[0;34m\u001b[0m\u001b[0;34m\u001b[0m\u001b[0m\n\u001b[0m",
      "\u001b[0;31mTypeError\u001b[0m: render() missing 2 required positional arguments: 'red' and 'blue'"
     ]
    }
   ],
   "source": [
    "board = ChessBoard()\n",
    "board.render()"
   ]
  },
  {
   "cell_type": "code",
   "execution_count": null,
   "metadata": {},
   "outputs": [],
   "source": []
  }
 ]
}